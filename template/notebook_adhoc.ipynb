{
 "cells": [
  {
   "cell_type": "code",
   "execution_count": 62,
   "metadata": {},
   "outputs": [],
   "source": [
    "targets = [0]\n",
    "triangle = [[0]]\n",
    "\n",
    "for i in range(50):\n",
    "    targets = [2*target for target in targets]\n",
    "    targets.append(targets[-1] + 1)\n",
    "        \n",
    "    new_arr = []\n",
    "    for i,target in enumerate(targets[:-1]):\n",
    "        new_arr.append(target - sum(frame[i] for x,frame in enumerate(triangle) if x >= i) - sum(new_arr))\n",
    "    new_arr.append(targets[-1] - sum(new_arr))\n",
    "    \n",
    "    triangle.append(new_arr)\n",
    "    \n",
    "new_triangle = [[] for _ in triangle]\n",
    "for _,column in enumerate(triangle[::-1]):\n",
    "    for j,cell in enumerate(column):\n",
    "        new_triangle[j].append(cell)\n",
    "    "
   ]
  },
  {
   "cell_type": "code",
   "execution_count": 63,
   "metadata": {},
   "outputs": [],
   "source": [
    "length = 10\n",
    "grid = [row[:length] for row in new_triangle[:length]]\n",
    "supplementary_path = sum(triangle[length-1][length:])"
   ]
  },
  {
   "cell_type": "code",
   "execution_count": 69,
   "metadata": {},
   "outputs": [
    {
     "data": {
      "text/plain": [
       "96757023244288"
      ]
     },
     "execution_count": 69,
     "metadata": {},
     "output_type": "execute_result"
    }
   ],
   "source": [
    "35184372088832 + 35184372088832 +26388279066624"
   ]
  },
  {
   "cell_type": "code",
   "execution_count": 67,
   "metadata": {},
   "outputs": [
    {
     "data": {
      "text/plain": [
       "[[0, 0, 0, 0, 0],\n",
       " [256, 128, 64, 32, 16],\n",
       " [256, 128, 64, 32, 16],\n",
       " [192, 96, 48, 24, 12],\n",
       " [128, 64, 32, 16, 8]]"
      ]
     },
     "execution_count": 67,
     "metadata": {},
     "output_type": "execute_result"
    }
   ],
   "source": [
    "grid"
   ]
  },
  {
   "cell_type": "code",
   "execution_count": 33,
   "metadata": {},
   "outputs": [
    {
     "data": {
      "text/plain": [
       "(25, 25)"
      ]
     },
     "execution_count": 33,
     "metadata": {},
     "output_type": "execute_result"
    }
   ],
   "source": [
    "import numpy as np\n",
    "np.array(grid).shape"
   ]
  },
  {
   "cell_type": "code",
   "execution_count": 68,
   "metadata": {},
   "outputs": [],
   "source": [
    "281474976710656 + 140737488355328 + 70368744177664 + 35184372088832 + 35184372088832 + 26388279066624"
   ]
  },
  {
   "cell_type": "code",
   "execution_count": 30,
   "metadata": {},
   "outputs": [],
   "source": [
    "# for row in triangle:\n",
    "#     print(len(row))"
   ]
  },
  {
   "cell_type": "code",
   "execution_count": null,
   "metadata": {},
   "outputs": [],
   "source": [
    "281474976710656 140737488355328 70368744177664 35184372088832\n",
    "281474976710656 140737488355328 70368744177664 35184372088832\n",
    "211106232532992 105553116266496 52776558133248 26388279066624"
   ]
  }
 ],
 "metadata": {
  "kernelspec": {
   "display_name": "Python 3",
   "language": "python",
   "name": "python3"
  },
  "language_info": {
   "codemirror_mode": {
    "name": "ipython",
    "version": 3
   },
   "file_extension": ".py",
   "mimetype": "text/x-python",
   "name": "python",
   "nbconvert_exporter": "python",
   "pygments_lexer": "ipython3",
   "version": "3.7.7"
  }
 },
 "nbformat": 4,
 "nbformat_minor": 4
}
