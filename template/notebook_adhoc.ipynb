{
 "cells": [
  {
   "cell_type": "code",
   "execution_count": 1,
   "metadata": {},
   "outputs": [
    {
     "data": {
      "text/plain": [
       "[[2, 3, 4], [0, 3, 5], [0, 1, 10]]"
      ]
     },
     "execution_count": 1,
     "metadata": {},
     "output_type": "execute_result"
    }
   ],
   "source": [
    "# Python program for Kruskal's algorithm to find \n",
    "# Minimum Spanning Tree of a given connected, undirected and weighted graph \n",
    "  \n",
    "from collections import defaultdict \n",
    "  \n",
    "#Class to represent a graph \n",
    "class Graph: \n",
    "  \n",
    "    def __init__(self, vertices): \n",
    "        self.V = vertices # number of vertices\n",
    "        self.graph = [] # default dictionary to store graph \n",
    "   \n",
    "    # function to add an edge to graph \n",
    "    def addEdge(self,u,v,w): \n",
    "        self.graph.append([u,v,w]) \n",
    "  \n",
    "    # A utility function to find set of an element i \n",
    "    # (uses path compression technique) \n",
    "    def find(self, parent, i): \n",
    "        if parent[i] == i: \n",
    "            return i \n",
    "        return self.find(parent, parent[i]) \n",
    "  \n",
    "    # A function that does union of two sets of x and y \n",
    "    # (uses union by rank) \n",
    "    def union(self, parent, rank, x, y): \n",
    "        xroot = self.find(parent, x) \n",
    "        yroot = self.find(parent, y) \n",
    "  \n",
    "        # Attach smaller rank tree under root of high rank tree (Union by Rank) \n",
    "        if rank[xroot] < rank[yroot]: \n",
    "            parent[xroot] = yroot \n",
    "        elif rank[xroot] > rank[yroot]: \n",
    "            parent[yroot] = xroot \n",
    "  \n",
    "        # If ranks are same, then make one as root and increment its rank by one \n",
    "        else : \n",
    "            parent[yroot] = xroot \n",
    "            rank[xroot] += 1\n",
    "  \n",
    "    # The main function to construct MST using Kruskal's algorithm \n",
    "    def KruskalMST(self): \n",
    "  \n",
    "        result = [] # This will store the resultant MST \n",
    "  \n",
    "        i = 0 # An index variable, used for sorted edges \n",
    "        e = 0 # An index variable, used for result[] \n",
    "  \n",
    "        # Step 1: Sort all the edges in non-decreasing order of their weight. \n",
    "        # If we are not allowed to change the given graph, we can create a copy of graph \n",
    "        self.graph = sorted(self.graph, key=lambda item: item[2]) \n",
    "  \n",
    "        parent = []\n",
    "        rank = [] \n",
    "  \n",
    "        # Create V subsets with single elements \n",
    "        for node in range(self.V): \n",
    "            parent.append(node) \n",
    "            rank.append(0) \n",
    "      \n",
    "        # Number of edges to be taken is equal to V-1 \n",
    "        while e < self.V-1 : \n",
    "  \n",
    "            # Step 2: Pick the smallest edge and increment the index for next iteration \n",
    "            u,v,w = self.graph[i] \n",
    "            i = i + 1\n",
    "            x = self.find(parent, u) \n",
    "            y = self.find(parent, v) \n",
    "  \n",
    "            # If including this edge does't cause cycle, \n",
    "            # include it in result and increment the index of result for next edge \n",
    "            if x != y: \n",
    "                e = e + 1     \n",
    "                result.append([u,v,w]) \n",
    "                self.union(parent, rank, x, y)             \n",
    "            # Else discard the edge \n",
    "  \n",
    "        return result\n",
    "  \n",
    "# Driver code \n",
    "g = Graph(4) \n",
    "g.addEdge(0, 1, 10) \n",
    "g.addEdge(0, 2, 6) \n",
    "g.addEdge(0, 3, 5) \n",
    "g.addEdge(1, 3, 15) \n",
    "g.addEdge(2, 3, 4) \n",
    "  \n",
    "g.KruskalMST()"
   ]
  },
  {
   "cell_type": "code",
   "execution_count": null,
   "metadata": {},
   "outputs": [],
   "source": []
  }
 ],
 "metadata": {
  "kernelspec": {
   "display_name": "Python 3",
   "language": "python",
   "name": "python3"
  },
  "language_info": {
   "codemirror_mode": {
    "name": "ipython",
    "version": 3
   },
   "file_extension": ".py",
   "mimetype": "text/x-python",
   "name": "python",
   "nbconvert_exporter": "python",
   "pygments_lexer": "ipython3",
   "version": "3.7.9"
  }
 },
 "nbformat": 4,
 "nbformat_minor": 4
}
