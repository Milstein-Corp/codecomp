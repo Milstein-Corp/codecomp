{
 "cells": [
  {
   "cell_type": "code",
   "execution_count": 85,
   "metadata": {},
   "outputs": [],
   "source": [
    "%reset -sf"
   ]
  },
  {
   "cell_type": "code",
   "execution_count": 86,
   "metadata": {},
   "outputs": [],
   "source": [
    "# A = \"zzzzzzzzzz\"\n",
    "# B = \"zzzzzzzzzz\""
   ]
  },
  {
   "cell_type": "code",
   "execution_count": 87,
   "metadata": {},
   "outputs": [],
   "source": [
    "# A = [abc.index(a) for a in A]\n",
    "# B = "
   ]
  },
  {
   "cell_type": "code",
   "execution_count": 266,
   "metadata": {},
   "outputs": [],
   "source": [
    "abc = \"abcdefghijklmnopqrstuvwxyz\"\n",
    "\n",
    "def count(S, T):\n",
    "    if S == \"\":\n",
    "        return 0\n",
    "    S = S + \" \"*(T-len(S))\n",
    "    S = [abc.index(b) if b != \" \" else 0 for b in S]\n",
    "    val = 0\n",
    "#     for i,s in enumerate(S):\n",
    "#         val = val*27\n",
    "#         val += s\n",
    "#         val -= 26**i\n",
    "    for i,s in enumerate(S[::-1]):\n",
    "        val += s*26**i\n",
    "    return val"
   ]
  },
  {
   "cell_type": "code",
   "execution_count": 267,
   "metadata": {},
   "outputs": [
    {
     "data": {
      "text/plain": [
       "0"
      ]
     },
     "execution_count": 267,
     "metadata": {},
     "output_type": "execute_result"
    }
   ],
   "source": [
    "count(\"a\",10)"
   ]
  },
  {
   "cell_type": "code",
   "execution_count": 268,
   "metadata": {},
   "outputs": [],
   "source": [
    "# 26**10"
   ]
  },
  {
   "cell_type": "code",
   "execution_count": 269,
   "metadata": {},
   "outputs": [
    {
     "data": {
      "text/plain": [
       "(0, 26, 52)"
      ]
     },
     "execution_count": 269,
     "metadata": {},
     "output_type": "execute_result"
    }
   ],
   "source": [
    "count(\"a\",2), count(\"b\",2), count(\"c\",2)"
   ]
  },
  {
   "cell_type": "code",
   "execution_count": 270,
   "metadata": {},
   "outputs": [
    {
     "data": {
      "text/plain": [
       "(24, 26, 52)"
      ]
     },
     "execution_count": 270,
     "metadata": {},
     "output_type": "execute_result"
    }
   ],
   "source": [
    "count(\"ay\",2), count(\"b\",2), count(\"c\",2)"
   ]
  },
  {
   "cell_type": "code",
   "execution_count": 250,
   "metadata": {},
   "outputs": [
    {
     "name": "stdout",
     "output_type": "stream",
     "text": [
      "6\n",
      "6\n",
      "8\n",
      "337166\n",
      "54818\n",
      "2\n",
      "141167095653625\n"
     ]
    }
   ],
   "source": [
    "print(count(\"d\",1) - count(\"\",1))\n",
    "print(count(\"c\",2) - count(\"ay\",2))\n",
    "print(count(\"cb\",2) - count(\"ay\",2))\n",
    "print(count(\"bulldozers\",10) - count(\"bulldog\",10))\n",
    "print(count(\"fad\",4) - count(\"bx\",4))\n",
    "print(count(\"pies\",4) - count(\"pier\",4))\n",
    "print(count(\"zzzzzzzzzz\",10) - count(\"\",10))"
   ]
  },
  {
   "cell_type": "code",
   "execution_count": 251,
   "metadata": {},
   "outputs": [],
   "source": [
    "3\n",
    "28\n",
    "30\n",
    "350592\n",
    "57028\n",
    "1\n",
    "146813779479509\n",
    "pass"
   ]
  },
  {
   "cell_type": "code",
   "execution_count": null,
   "metadata": {},
   "outputs": [],
   "source": []
  },
  {
   "cell_type": "code",
   "execution_count": null,
   "metadata": {},
   "outputs": [],
   "source": [
    "# 0)\n",
    "# 1\n",
    "# \"\"\n",
    "# \"d\"\n",
    "# Returns: 3\n",
    "# The valid strings between \"\" and \"d\" are \"a\", \"b\", and \"c\".\n",
    "# 1)\n",
    "# 2\n",
    "# \"ay\"\n",
    "# \"c\"\n",
    "# Returns: 28\n",
    "# The valid strings are \"az\", \"b\", \"ba\", \"bb\", ..., \"bx\", \"by\", \"bz\".\n",
    "# 2)\n",
    "# 2\n",
    "# \"ay\"\n",
    "# \"cb\"\n",
    "# Returns: 30\n",
    "# Compared to the previous example we now also have valid strings \"c\" and \"ca\" within the specified range.\n",
    "# 3)\n",
    "# 10\n",
    "# \"bulldog\"\n",
    "# \"bulldozers\"\n",
    "# Returns: 350592\n",
    "# 4)\n",
    "# 4\n",
    "# \"bx\"\n",
    "# \"fad\"\n",
    "# Returns: 57028\n",
    "# 5)\n",
    "# 4\n",
    "# \"pier\"\n",
    "# \"pies\"\n",
    "# Returns: 0\n",
    "# 6)\n",
    "# 10\n",
    "# \"\"\n",
    "# \"zzzzzzzzzz\"\n",
    "# Returns: 146813779479509\n",
    "# The largest possible output."
   ]
  }
 ],
 "metadata": {
  "kernelspec": {
   "display_name": "Python 3",
   "language": "python",
   "name": "python3"
  },
  "language_info": {
   "codemirror_mode": {
    "name": "ipython",
    "version": 3
   },
   "file_extension": ".py",
   "mimetype": "text/x-python",
   "name": "python",
   "nbconvert_exporter": "python",
   "pygments_lexer": "ipython3",
   "version": "3.7.7"
  }
 },
 "nbformat": 4,
 "nbformat_minor": 4
}
