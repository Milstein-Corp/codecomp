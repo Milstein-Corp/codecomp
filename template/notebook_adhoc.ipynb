{
 "cells": [
  {
   "cell_type": "code",
   "execution_count": 1,
   "metadata": {},
   "outputs": [],
   "source": [
    "%reset -sf"
   ]
  },
  {
   "cell_type": "code",
   "execution_count": 2,
   "metadata": {},
   "outputs": [],
   "source": [
    "N = 100000\n",
    "X = 2"
   ]
  },
  {
   "cell_type": "code",
   "execution_count": 3,
   "metadata": {},
   "outputs": [],
   "source": [
    "def machine_actual(mode, num):\n",
    "    print(\"{} {}\".format(mode, num),flush = True)\n",
    "    if mode == \"C\":\n",
    "        sys.exit()\n",
    "    k = int(input())\n",
    "    return k"
   ]
  },
  {
   "cell_type": "code",
   "execution_count": 4,
   "metadata": {},
   "outputs": [],
   "source": [
    "# states\n",
    "sett = set(range(1,N+1))\n",
    "machine_counter = 0\n",
    "\n",
    "def machine_simulated(mode, num):\n",
    "    global machine_counter\n",
    "    machine_counter = machine_counter + 1\n",
    "    if mode == \"A\":\n",
    "        cnt = 0\n",
    "        for x in range(num, N+1, num):\n",
    "            if x in sett:\n",
    "                cnt += 1\n",
    "        return cnt\n",
    "    \n",
    "    if mode == \"B\":\n",
    "        cnt = 0\n",
    "        for x in range(num, N+1, num):\n",
    "            if x in sett:\n",
    "                cnt += 1\n",
    "                if x != X:\n",
    "                    sett.remove(x)\n",
    "        return cnt\n",
    "    \n",
    "    if mode == \"C\":\n",
    "        print(machine_counter)\n",
    "        if num == X:\n",
    "            print(True)\n",
    "        else:\n",
    "            print(False)"
   ]
  },
  {
   "cell_type": "code",
   "execution_count": 5,
   "metadata": {},
   "outputs": [],
   "source": [
    "machine = machine_simulated"
   ]
  },
  {
   "cell_type": "code",
   "execution_count": 6,
   "metadata": {},
   "outputs": [],
   "source": [
    "def brute_force(lst):\n",
    "    for i in lst[::-1]:\n",
    "        _ = machine(\"B\", i)\n",
    "        k = machine(\"A\", i)\n",
    "        if k == 1:\n",
    "            res = machine(\"C\", i)\n",
    "            break\n",
    "    res = machine(\"C\", 1)"
   ]
  },
  {
   "cell_type": "code",
   "execution_count": 7,
   "metadata": {},
   "outputs": [],
   "source": [
    "if N < 3000:\n",
    "    brute_force(list(range(1,N+1))), sett"
   ]
  },
  {
   "cell_type": "code",
   "execution_count": 8,
   "metadata": {},
   "outputs": [
    {
     "data": {
      "text/plain": [
       "[2]"
      ]
     },
     "execution_count": 8,
     "metadata": {},
     "output_type": "execute_result"
    }
   ],
   "source": [
    "primes = [2, 3, 5, 7, 11, 13, 17, 19, 23, 29, 31, 37, 41, 43, 47, 53, 59, 61, 67, 71, 73, 79, 83, 89, 97, 101, 103, 107, 109, 113, 127, 131, 137, 139, 149, 151, 157, 163, 167, 173, 179, 181, 191, 193, 197, 199, 211, 223, 227, 229, 233, 239, 241, 251, 257, 263, 269, 271, 277, 281, 283, 293, 307, 311, 313, 317,\n",
    "          331, 337, 347, 349, 353, 359, 367, 373, 379, 383, 389, 397, 401, 409, 419, 421, 431, 433, 439, 443, 449, 457, 461, 463, 467, 479, 487, 491, 499, 503, 509, 521, 523, 541, 547, 557, 563, 569, 571, 577, 587, 593, 599, 601, 607, 613, 617, 619, 631, 641, 643, 647, 653, 659, 661, 673, 677, 683, 691, 701, 709, 719, 727, 733, 739, 743, \n",
    "          751, 757, 761, 769, 773, 787, 797, 809, 811, 821, 823, 827, 829, 839, 853, 857, 859, 863, 877, 881, 883, 887, 907, 911, 919, 929, 937, 941, 947, 953, 967, 971, 977, 983, 991, 997, 1009, 1013,\n",
    "          1019, 1021, 1031, 1033, 1039, 1049, 1051, 1061, 1063, 1069, 1087, 1091, 1093, 1097, 1103, 1109, 1117, 1123, 1129, 1151, 1153, 1163, 1171, 1181, 1187, 1193, 1201, 1213, 1217, 1223, 1229, 1231, 1237, 1249, 1259, 1277, 1279, 1283, 1289, 1291, 1297, 1301, 1303, 1307, 1319, 1321, 1327, 1361, 1367, 1373, 1381, 1399, 1409, 1423, 1427, 1429, 1433, 1439, 1447, 1451, 1453, 1459, 1471, 1481, 1483, 1487, 1489, 1493, 1499, 1511, 1523, 1531, 1543, 1549, 1553, 1559, 1567, 1571, 1579, 1583, 1597, 1601, 1607, 1609, 1613, 1619, 1621, 1627, 1637, 1657, 1663, 1667, 1669, 1693, 1697, 1699, 1709, 1721, 1723, 1733, 1741, 1747, 1753, 1759, 1777, 1783, 1787, 1789, 1801\n",
    "         ]\n",
    "cutoff = primes[-1]\n",
    "\n",
    "factors = []\n",
    "for p in primes:\n",
    "    a = machine(\"B\", p)\n",
    "    b = machine(\"A\", p)\n",
    "    if b != 0:\n",
    "        factors.append(p)\n",
    "factors"
   ]
  },
  {
   "cell_type": "code",
   "execution_count": 9,
   "metadata": {},
   "outputs": [],
   "source": [
    "if factors != []:\n",
    "    base = 1\n",
    "    for f in factors:\n",
    "        base = base*f\n",
    "    candidates = list(range(base, N+1, base))\n",
    "\n",
    "    sieve = [[] for _ in range(10**5 + 1)]\n",
    "    for i in range(2,cutoff+1):\n",
    "        if sieve[i] == []:\n",
    "            for j in range(i, N+1, i):\n",
    "                sieve[j].append(i)\n",
    "    large_primes = [c for c in candidates if sieve[c] == factors]\n",
    "#     brute_force(large_primes)"
   ]
  },
  {
   "cell_type": "code",
   "execution_count": 10,
   "metadata": {},
   "outputs": [],
   "source": [
    "# large_primes"
   ]
  },
  {
   "cell_type": "code",
   "execution_count": 11,
   "metadata": {},
   "outputs": [
    {
     "data": {
      "text/plain": [
       "9265"
      ]
     },
     "execution_count": 11,
     "metadata": {},
     "output_type": "execute_result"
    }
   ],
   "source": [
    "large_primes = large_primes[::-1]\n",
    "len(large_primes)"
   ]
  },
  {
   "cell_type": "code",
   "execution_count": 12,
   "metadata": {},
   "outputs": [],
   "source": [
    "# print(larger_primes)"
   ]
  },
  {
   "cell_type": "code",
   "execution_count": 13,
   "metadata": {},
   "outputs": [],
   "source": [
    "larger_primes = []\n",
    "sieve = [[] for _ in range(N+1)]\n",
    "for i in range(2,N+1):\n",
    "    if sieve[i] == []:\n",
    "        if i > cutoff:\n",
    "            larger_primes.append(i)\n",
    "        for j in range(i,N+1,i):\n",
    "            sieve[j].append(i)\n",
    "if factors == []:\n",
    "    large_primes = larger_primes\n",
    "    additional = 0\n",
    "else:\n",
    "    additional = len(larger_primes)"
   ]
  },
  {
   "cell_type": "code",
   "execution_count": 14,
   "metadata": {},
   "outputs": [],
   "source": [
    "def clear(lst):\n",
    "    for i in lst[::-1]:\n",
    "        k = machine(\"A\", i)\n",
    "        if k == 1:\n",
    "            res = machine(\"C\", i)\n",
    "            break\n",
    "    \n",
    "def check(lst, expected_remaining):\n",
    "    for i in lst[::-1]:\n",
    "        _ = machine(\"B\", i)\n",
    "    remaining = machine(\"A\", 1)\n",
    "    if expected_remaining != remaining:\n",
    "        print(expected_remaining, remaining)\n",
    "        clear(lst)"
   ]
  },
  {
   "cell_type": "code",
   "execution_count": 15,
   "metadata": {},
   "outputs": [
    {
     "data": {
      "text/plain": [
       "558"
      ]
     },
     "execution_count": 15,
     "metadata": {},
     "output_type": "execute_result"
    }
   ],
   "source": [
    "machine_counter"
   ]
  },
  {
   "cell_type": "code",
   "execution_count": 16,
   "metadata": {},
   "outputs": [
    {
     "name": "stdout",
     "output_type": "stream",
     "text": [
      "558\n",
      "13947 9315\n",
      "9823\n",
      "11631 9315\n",
      "14456\n",
      "10473 9315\n",
      "16773\n",
      "9894 9315\n",
      "17932\n",
      "9604 9315\n",
      "18513\n",
      "9459 9315\n",
      "18804\n",
      "9387 9315\n",
      "18949\n",
      "9351 9315\n",
      "19022\n",
      "9333 9315\n",
      "19059\n",
      "9324 9315\n",
      "19081\n",
      "True\n",
      "19082\n",
      "False\n"
     ]
    }
   ],
   "source": [
    "while len(large_primes) > 10:\n",
    "    clearing_primes = large_primes[:len(large_primes)//2]\n",
    "    large_primes = large_primes[len(large_primes)//2:]\n",
    "    print(machine_counter)\n",
    "    check(clearing_primes, len(large_primes) + 1 + additional)\n",
    "\n",
    "brute_force(large_primes)  # +1 from [1]"
   ]
  },
  {
   "cell_type": "code",
   "execution_count": 17,
   "metadata": {},
   "outputs": [
    {
     "data": {
      "text/plain": [
       "19082"
      ]
     },
     "execution_count": 17,
     "metadata": {},
     "output_type": "execute_result"
    }
   ],
   "source": [
    "machine_counter"
   ]
  },
  {
   "cell_type": "code",
   "execution_count": 18,
   "metadata": {},
   "outputs": [
    {
     "data": {
      "text/plain": [
       "[1024, 512, 256, 128, 64, 32, 16, 8, 4, 2]"
      ]
     },
     "execution_count": 18,
     "metadata": {},
     "output_type": "execute_result"
    }
   ],
   "source": [
    "large_primes"
   ]
  },
  {
   "cell_type": "code",
   "execution_count": null,
   "metadata": {},
   "outputs": [],
   "source": []
  }
 ],
 "metadata": {
  "kernelspec": {
   "display_name": "Python 3",
   "language": "python",
   "name": "python3"
  },
  "language_info": {
   "codemirror_mode": {
    "name": "ipython",
    "version": 3
   },
   "file_extension": ".py",
   "mimetype": "text/x-python",
   "name": "python",
   "nbconvert_exporter": "python",
   "pygments_lexer": "ipython3",
   "version": "3.7.9"
  }
 },
 "nbformat": 4,
 "nbformat_minor": 4
}
