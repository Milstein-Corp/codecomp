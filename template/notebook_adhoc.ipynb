{
 "cells": [
  {
   "cell_type": "code",
   "execution_count": 152,
   "metadata": {},
   "outputs": [],
   "source": [
    "%reset -sf"
   ]
  },
  {
   "cell_type": "code",
   "execution_count": 153,
   "metadata": {},
   "outputs": [],
   "source": [
    "N = 100000\n",
    "X = 65537"
   ]
  },
  {
   "cell_type": "code",
   "execution_count": 154,
   "metadata": {},
   "outputs": [],
   "source": [
    "def machine_actual(mode, num):\n",
    "    print(\"{} {}\".format(mode, num),flush = True)\n",
    "    if mode == \"C\":\n",
    "        sys.exit()\n",
    "    k = int(input())\n",
    "    return k"
   ]
  },
  {
   "cell_type": "code",
   "execution_count": 155,
   "metadata": {},
   "outputs": [],
   "source": [
    "# states\n",
    "sett = set(range(1,N+1))\n",
    "machine_counter = 0\n",
    "\n",
    "def machine_simulated(mode, num):\n",
    "    global machine_counter\n",
    "    machine_counter = machine_counter + 1\n",
    "    if mode == \"A\":\n",
    "        cnt = 0\n",
    "        for x in range(num, N+1, num):\n",
    "            if x in sett:\n",
    "                cnt += 1\n",
    "        return cnt\n",
    "    \n",
    "    if mode == \"B\":\n",
    "        cnt = 0\n",
    "        for x in range(num, N+1, num):\n",
    "            if x in sett:\n",
    "                cnt += 1\n",
    "                if x != X:\n",
    "                    sett.remove(x)\n",
    "        return cnt\n",
    "    \n",
    "    if mode == \"C\":\n",
    "        if num == X:\n",
    "            print(True)\n",
    "        print(False)"
   ]
  },
  {
   "cell_type": "code",
   "execution_count": 156,
   "metadata": {},
   "outputs": [],
   "source": [
    "machine = machine_simulated"
   ]
  },
  {
   "cell_type": "code",
   "execution_count": 157,
   "metadata": {},
   "outputs": [],
   "source": [
    "def brute_force(lst):\n",
    "    for i in lst[::-1]:\n",
    "        _ = machine(\"B\", i)\n",
    "        k = machine(\"A\", i)\n",
    "        if k == 1:\n",
    "            res = machine(\"C\", i)\n",
    "            break\n",
    "    res = machine(\"C\", 1)"
   ]
  },
  {
   "cell_type": "code",
   "execution_count": 158,
   "metadata": {},
   "outputs": [],
   "source": [
    "if N < 3000:\n",
    "    brute_force(list(range(1,N+1))), sett"
   ]
  },
  {
   "cell_type": "code",
   "execution_count": 159,
   "metadata": {},
   "outputs": [
    {
     "data": {
      "text/plain": [
       "[]"
      ]
     },
     "execution_count": 159,
     "metadata": {},
     "output_type": "execute_result"
    }
   ],
   "source": [
    "primes = [2, 3, 5, 7, 11, 13, 17, 19, 23, 29, 31, 37, 41, 43, 47, 53, 59, 61, 67, 71, 73, 79, 83, 89, 97, 101, 103, 107, 109, 113, 127, 131, 137, 139, 149, 151, 157, 163, 167, 173, 179, 181, 191, 193, 197, 199, 211, 223, 227, 229, 233, 239, 241, 251, 257, 263, 269, 271, 277, 281, 283, 293, 307, 311, 313, 317,\n",
    "#           331, 337, 347, 349, 353, 359, 367, 373, 379, 383, 389, 397, 401, 409, 419, 421, 431, 433, 439, 443, 449, 457, 461, 463, 467, 479, 487, 491, 499, 503, 509, 521, 523, 541, 547, 557, 563, 569, 571, 577, 587, 593, 599, 601, 607, 613, 617, 619, 631, 641, 643, 647, 653, 659, 661, 673, 677, 683, 691, 701, 709, 719, 727, 733, 739, 743, 751, 757, 761, 769, 773, 787, 797, 809, 811, 821, 823, 827, 829, 839, 853, 857, 859, 863, 877, 881, 883, 887, 907, 911, 919, 929, 937, 941, 947, 953, 967, 971, 977, 983, 991, 997, 1009, 1013\n",
    "         ]\n",
    "cutoff = primes[-1]\n",
    "\n",
    "factors = []\n",
    "for p in primes:\n",
    "    a = machine(\"B\", p)\n",
    "    b = machine(\"A\", p)\n",
    "    if b != 0:\n",
    "        factors.append(p)\n",
    "factors"
   ]
  },
  {
   "cell_type": "code",
   "execution_count": 160,
   "metadata": {},
   "outputs": [],
   "source": [
    "if factors != []:\n",
    "    base = 1\n",
    "    for f in factors:\n",
    "        base = base*f\n",
    "    candidates = list(range(base, N+1, base))\n",
    "    brute_force(candidates)"
   ]
  },
  {
   "cell_type": "code",
   "execution_count": 161,
   "metadata": {},
   "outputs": [],
   "source": [
    "if factors == []:\n",
    "    large_primes = []\n",
    "    sieve = [[] for _ in range(N+1)]\n",
    "    for i in range(2,N+1):\n",
    "        if sieve[i] == []:\n",
    "            if i > cutoff:\n",
    "                large_primes.append(i)\n",
    "            for j in range(i,N+1,i):\n",
    "                sieve[j].append(i)"
   ]
  },
  {
   "cell_type": "code",
   "execution_count": 162,
   "metadata": {},
   "outputs": [],
   "source": [
    "def clear(lst):\n",
    "    for i in lst[::-1]:\n",
    "        k = machine(\"A\", i)\n",
    "        if k == 1:\n",
    "            res = machine(\"C\", i)\n",
    "            break\n",
    "    \n",
    "def check(lst, expected_remaining):\n",
    "    for i in lst[::-1]:\n",
    "        _ = machine(\"B\", i)\n",
    "    remaining = machine(\"A\", 1)\n",
    "    if expected_remaining != remaining:\n",
    "        clear(lst)"
   ]
  },
  {
   "cell_type": "code",
   "execution_count": 163,
   "metadata": {},
   "outputs": [
    {
     "name": "stdout",
     "output_type": "stream",
     "text": [
      "True\n",
      "False\n",
      "False\n"
     ]
    }
   ],
   "source": [
    "while len(large_primes) > 10:\n",
    "    clearing_primes = large_primes[:len(large_primes)//2]\n",
    "    large_primes = large_primes[len(large_primes)//2:]\n",
    "    check(clearing_primes, len(large_primes) + 1)\n",
    "    \n",
    "brute_force(large_primes)  # +1 from [1]"
   ]
  },
  {
   "cell_type": "code",
   "execution_count": 164,
   "metadata": {},
   "outputs": [
    {
     "data": {
      "text/plain": [
       "12824"
      ]
     },
     "execution_count": 164,
     "metadata": {},
     "output_type": "execute_result"
    }
   ],
   "source": [
    "machine_counter"
   ]
  },
  {
   "cell_type": "code",
   "execution_count": null,
   "metadata": {},
   "outputs": [],
   "source": []
  },
  {
   "cell_type": "code",
   "execution_count": null,
   "metadata": {},
   "outputs": [],
   "source": []
  },
  {
   "cell_type": "code",
   "execution_count": 82,
   "metadata": {},
   "outputs": [],
   "source": [
    "primes = '''2 3 5 7 11 13 17 19 23 29 \n",
    "31 37 41 43 47 53 59 61 67 71 \n",
    "73 79 83 89 97 101 103 107 109 113 \n",
    "127 131 137 139 149 151 157 163 167 173 \n",
    "179 181 191 193 197 199 211 223 227 229 \n",
    "233 239 241 251 257 263 269 271 277 281 \n",
    "283 293 307 311 313 317 331 337 347 349 \n",
    "353 359 367 373 379 383 389 397 401 409 \n",
    "419 421 431 433 439 443 449 457 461 463 \n",
    "467 479 487 491 499 503 509 521 523 541 \n",
    "547 557 563 569 571 577 587 593 599 601 \n",
    "607 613 617 619 631 641 643 647 653 659 \n",
    "661 673 677 683 691 701 709 719 727 733 \n",
    "739 743 751 757 761 769 773 787 797 809 \n",
    "811 821 823 827 829 839 853 857 859 863 \n",
    "877 881 883 887 907 911 919 929 937 941 \n",
    "947 953 967 971 977 983 991 997 1009 1013'''\n",
    "primes = [int(x) for x in primes.replace('\\n', ' ').split()]"
   ]
  },
  {
   "cell_type": "code",
   "execution_count": 84,
   "metadata": {},
   "outputs": [
    {
     "name": "stdout",
     "output_type": "stream",
     "text": [
      "[2, 3, 5, 7, 11, 13, 17, 19, 23, 29, 31, 37, 41, 43, 47, 53, 59, 61, 67, 71, 73, 79, 83, 89, 97, 101, 103, 107, 109, 113, 127, 131, 137, 139, 149, 151, 157, 163, 167, 173, 179, 181, 191, 193, 197, 199, 211, 223, 227, 229, 233, 239, 241, 251, 257, 263, 269, 271, 277, 281, 283, 293, 307, 311, 313, 317, 331, 337, 347, 349, 353, 359, 367, 373, 379, 383, 389, 397, 401, 409, 419, 421, 431, 433, 439, 443, 449, 457, 461, 463, 467, 479, 487, 491, 499, 503, 509, 521, 523, 541, 547, 557, 563, 569, 571, 577, 587, 593, 599, 601, 607, 613, 617, 619, 631, 641, 643, 647, 653, 659, 661, 673, 677, 683, 691, 701, 709, 719, 727, 733, 739, 743, 751, 757, 761, 769, 773, 787, 797, 809, 811, 821, 823, 827, 829, 839, 853, 857, 859, 863, 877, 881, 883, 887, 907, 911, 919, 929, 937, 941, 947, 953, 967, 971, 977, 983, 991, 997, 1009, 1013]\n"
     ]
    }
   ],
   "source": [
    "print(primes)"
   ]
  },
  {
   "cell_type": "code",
   "execution_count": null,
   "metadata": {},
   "outputs": [],
   "source": [
    "sett(\"B\", 2)\n",
    "sett(\"A\", 2)"
   ]
  },
  {
   "cell_type": "code",
   "execution_count": 56,
   "metadata": {},
   "outputs": [],
   "source": [
    "N = 100000\n",
    "primes = 0\n",
    "sieve = [[] for _ in range(N+1)]\n",
    "for i in range(2,N+1):\n",
    "    if sieve[i] == []:\n",
    "        primes += 1\n",
    "        for j in range(i,N+1,i):\n",
    "            sieve[j].append(i)"
   ]
  },
  {
   "cell_type": "code",
   "execution_count": 85,
   "metadata": {},
   "outputs": [],
   "source": [
    "# len([1 for i,arr in enumerate(sieve[2:]) if arr[0] == i])"
   ]
  },
  {
   "cell_type": "code",
   "execution_count": 60,
   "metadata": {},
   "outputs": [
    {
     "data": {
      "text/plain": [
       "316.22776601683796"
      ]
     },
     "execution_count": 60,
     "metadata": {},
     "output_type": "execute_result"
    }
   ],
   "source": [
    "import math\n",
    "math.sqrt(10**5)"
   ]
  },
  {
   "cell_type": "code",
   "execution_count": 54,
   "metadata": {},
   "outputs": [
    {
     "data": {
      "text/plain": [
       "2262"
      ]
     },
     "execution_count": 54,
     "metadata": {},
     "output_type": "execute_result"
    }
   ],
   "source": [
    "primes"
   ]
  },
  {
   "cell_type": "code",
   "execution_count": 46,
   "metadata": {},
   "outputs": [],
   "source": [
    "# [1 for i,arr in enumerate(sieve[2:]) if arr[0] == i]"
   ]
  },
  {
   "cell_type": "code",
   "execution_count": 39,
   "metadata": {},
   "outputs": [
    {
     "data": {
      "text/plain": [
       "1"
      ]
     },
     "execution_count": 39,
     "metadata": {},
     "output_type": "execute_result"
    }
   ],
   "source": [
    "len([1 for i,arr in enumerate(sieve[2:]) if arr[0] == i])"
   ]
  },
  {
   "cell_type": "code",
   "execution_count": 25,
   "metadata": {},
   "outputs": [
    {
     "data": {
      "text/plain": [
       "(3, {1, 2, 4, 5, 7, 8, 10})"
      ]
     },
     "execution_count": 25,
     "metadata": {},
     "output_type": "execute_result"
    }
   ],
   "source": [
    "machine(\"B\", 3)"
   ]
  },
  {
   "cell_type": "code",
   "execution_count": 20,
   "metadata": {},
   "outputs": [
    {
     "data": {
      "text/plain": [
       "[3, 6, 9]"
      ]
     },
     "execution_count": 20,
     "metadata": {},
     "output_type": "execute_result"
    }
   ],
   "source": [
    "list(range(3, N+1, 3))"
   ]
  },
  {
   "cell_type": "code",
   "execution_count": null,
   "metadata": {},
   "outputs": [],
   "source": [
    "# go through 2\n",
    "# go through all the primes up to 10**5//2 \n",
    "\n",
    "# if there is no trace of deletion, definitely a prime between 10**5//2\n",
    "\n",
    "\n",
    "# if N < 4000, we brute force"
   ]
  }
 ],
 "metadata": {
  "kernelspec": {
   "display_name": "Python 3",
   "language": "python",
   "name": "python3"
  },
  "language_info": {
   "codemirror_mode": {
    "name": "ipython",
    "version": 3
   },
   "file_extension": ".py",
   "mimetype": "text/x-python",
   "name": "python",
   "nbconvert_exporter": "python",
   "pygments_lexer": "ipython3",
   "version": "3.7.9"
  }
 },
 "nbformat": 4,
 "nbformat_minor": 4
}
