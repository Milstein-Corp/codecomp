{
 "cells": [
  {
   "cell_type": "code",
   "execution_count": 1,
   "metadata": {},
   "outputs": [],
   "source": [
    "# a2\n",
    "import random\n",
    "large = 10**6\n",
    "with open('a2', 'w') as f:\n",
    "    print(1, file=f)\n",
    "    print(\"1000000 1000000 20\", file=f)\n",
    "    print(\" \".join(str(x) for x in range(1,large + 1)), file=f)\n",
    "    print(\"0 0 0 100\", file=f)\n",
    "    print(\" \".join(str(random.randint(1, 500000000)) for x in range(1,large + 1)), file=f)\n",
    "    print(\"0 0 0 100\", file=f)"
   ]
  },
  {
   "cell_type": "code",
   "execution_count": 2,
   "metadata": {},
   "outputs": [],
   "source": [
    "# b2\n",
    "import random\n",
    "large = 10**6\n",
    "with open('b2', 'w') as f:\n",
    "    print(1, file=f)\n",
    "    print(\"1000000 1000000\", file=f)\n",
    "    print(\" \".join(str(random.randint(1, 500000000)) for x in range(1,large + 1)), file=f)\n",
    "    print(\"0 0 0 100\", file=f)\n",
    "    print(\" \".join(str(random.randint(1, 500000000)) for x in range(1,large + 1)), file=f)\n",
    "    print(\"0 0 0 100\", file=f)\n",
    "    print(\" \".join(str(x) for x in list(range(1,large + 1))[::-1]), file=f)\n",
    "    print(\"0 0 0 100\", file=f)"
   ]
  },
  {
   "cell_type": "code",
   "execution_count": null,
   "metadata": {},
   "outputs": [],
   "source": []
  }
 ],
 "metadata": {
  "kernelspec": {
   "display_name": "Python 3",
   "language": "python",
   "name": "python3"
  },
  "language_info": {
   "codemirror_mode": {
    "name": "ipython",
    "version": 3
   },
   "file_extension": ".py",
   "mimetype": "text/x-python",
   "name": "python",
   "nbconvert_exporter": "python",
   "pygments_lexer": "ipython3",
   "version": "3.7.7"
  }
 },
 "nbformat": 4,
 "nbformat_minor": 4
}
