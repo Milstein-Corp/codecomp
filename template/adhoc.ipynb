{
 "cells": [
  {
   "cell_type": "code",
   "execution_count": 100,
   "metadata": {},
   "outputs": [],
   "source": [
    "import math\n",
    "import matplotlib.pyplot as plt"
   ]
  },
  {
   "cell_type": "code",
   "execution_count": 101,
   "metadata": {},
   "outputs": [],
   "source": [
    "positions = [[0,1],[3,2],[4,5],[7,6],[8,9],[11,1],[2,12]]"
   ]
  },
  {
   "cell_type": "code",
   "execution_count": 115,
   "metadata": {},
   "outputs": [],
   "source": [
    "x_min = min([x for x,y in positions])\n",
    "x_max = max([x for x,y in positions])\n",
    "y_min = min([y for x,y in positions])\n",
    "y_max = max([y for x,y in positions])\n",
    "\n",
    "def compute_cost(c,d):\n",
    "    res = 0\n",
    "    for x,y in positions:\n",
    "        res += math.sqrt((c-x)**2 + (d-y)**2)\n",
    "    return res\n",
    "\n",
    "resolution = 9\n",
    "min_cost = [math.inf,0,0]\n",
    "grid = [[0 for _ in range(resolution)] for _ in range(resolution)]\n",
    "\n",
    "for i in range(100):\n",
    "    for i,row in enumerate(grid):\n",
    "        for j,_ in enumerate(row):\n",
    "            x_val = x_min + i/resolution * (x_max-x_min)\n",
    "            y_val = y_min + j/resolution * (y_max-y_min)\n",
    "            cost = compute_cost(x_val, y_val)\n",
    "            grid[i][j] = cost\n",
    "            min_cost = min(min_cost, [cost, x_val, y_val])\n",
    "    break\n",
    "    x_min, x_max = min_cost[1] - (x_max - x_min)/3, min_cost[1] + (x_max - x_min)/3\n",
    "    y_min, y_max = min_cost[2] - (y_max - y_min)/3, min_cost[2] + (y_max - y_min)/3"
   ]
  },
  {
   "cell_type": "code",
   "execution_count": 116,
   "metadata": {},
   "outputs": [
    {
     "data": {
      "text/plain": [
       "[33.16828543589662, 4.888888888888888, 4.666666666666666]"
      ]
     },
     "execution_count": 116,
     "metadata": {},
     "output_type": "execute_result"
    }
   ],
   "source": [
    "min_cost"
   ]
  },
  {
   "cell_type": "code",
   "execution_count": 117,
   "metadata": {},
   "outputs": [
    {
     "data": {
      "image/png": "[encoded data removed]",
      "text/plain": [
       "<Figure size 432x288 with 2 Axes>"
      ]
     },
     "metadata": {
      "needs_background": "light"
     },
     "output_type": "display_data"
    }
   ],
   "source": [
    "plt.imshow(grid, extent=(x_min,x_max,y_min,y_max))\n",
    "plt.scatter(*zip(*positions), color=\"red\")\n",
    "plt.scatter(min_cost[1], min_cost[2], marker=\"x\", color=\"red\")\n",
    "plt.colorbar()\n",
    "plt.show()"
   ]
  },
  {
   "cell_type": "code",
   "execution_count": 112,
   "metadata": {},
   "outputs": [],
   "source": [
    "# for i in range(50):\n",
    "#     x_min, x_max = min_cost[1] - (x_max - x_min)/3, min_cost[1] + (x_max - x_min)/3\n",
    "#     y_min, y_max = min_cost[2] - (y_max - y_min)/3, min_cost[2] + (y_max - y_min)/3\n",
    "\n",
    "#     min_cost = [math.inf,0,0]\n",
    "#     for i,row in enumerate(grid):\n",
    "#         for j,_ in enumerate(row):\n",
    "#             x_val = x_min + i/resolution * (x_max-x_min)\n",
    "#             y_val = y_min + j/resolution * (y_max-y_min)\n",
    "#             cost = compute_cost(x_val, y_val)\n",
    "#             grid[i][j] = cost\n",
    "#             min_cost = min(min_cost, [cost, x_val, y_val])"
   ]
  },
  {
   "cell_type": "code",
   "execution_count": 113,
   "metadata": {},
   "outputs": [],
   "source": [
    "# min_cost"
   ]
  },
  {
   "cell_type": "code",
   "execution_count": 114,
   "metadata": {},
   "outputs": [],
   "source": [
    "# x_max"
   ]
  },
  {
   "cell_type": "code",
   "execution_count": 13,
   "metadata": {},
   "outputs": [],
   "source": [
    "# grid"
   ]
  },
  {
   "cell_type": "code",
   "execution_count": 30,
   "metadata": {},
   "outputs": [],
   "source": [
    "# ?plt.imshow"
   ]
  },
  {
   "cell_type": "code",
   "execution_count": null,
   "metadata": {},
   "outputs": [],
   "source": []
  }
 ],
 "metadata": {
  "kernelspec": {
   "display_name": "Python 3",
   "language": "python",
   "name": "python3"
  },
  "language_info": {
   "codemirror_mode": {
    "name": "ipython",
    "version": 3
   },
   "file_extension": ".py",
   "mimetype": "text/x-python",
   "name": "python",
   "nbconvert_exporter": "python",
   "pygments_lexer": "ipython3",
   "version": "3.7.4"
  }
 },
 "nbformat": 4,
 "nbformat_minor": 4
}
