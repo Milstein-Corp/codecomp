{
 "cells": [
  {
   "cell_type": "code",
   "execution_count": 1,
   "metadata": {},
   "outputs": [],
   "source": [
    "%reset -sf"
   ]
  },
  {
   "cell_type": "code",
   "execution_count": 2,
   "metadata": {},
   "outputs": [],
   "source": [
    "def solve(a,b,c):\n",
    "    \n",
    "    if c <= len(str(a)):\n",
    "        return int(str(a)[:c])\n",
    "    \n",
    "    for i in range(20):\n",
    "    \n",
    "        if c//len(str(a)) < 10:\n",
    "            print(\"break\")\n",
    "            break\n",
    "\n",
    "        forward = min((int(\"9\"*len(str(a))) - a )//b, c//len(str(a)))\n",
    "        print(\"forward\", forward, len(str(a)))\n",
    "\n",
    "        c = c - forward*len(str(a))\n",
    "        a = a + forward*b\n",
    "\n",
    "        print(a,b,c)\n",
    "\n",
    "        if c//len(str(a)) < 10:\n",
    "            print(\"break\")\n",
    "            break\n",
    "\n",
    "        forward = 3\n",
    "        print(\"forward\", forward)\n",
    "\n",
    "        c = c - len(str(a))\n",
    "        a = a + b\n",
    "\n",
    "        c = c - len(str(a))\n",
    "        a = a + b\n",
    "\n",
    "        c = c - len(str(a))\n",
    "        a = a + b\n",
    "\n",
    "        print(a,b,c)\n",
    "\n",
    "    res = list(range(a,a+b*c,b))\n",
    "\n",
    "    print(res)\n",
    "\n",
    "    for r in res:\n",
    "        if c <= len(str(r)):\n",
    "            return int(str(r)[:c])\n",
    "            break\n",
    "        c = c-len(str(r))\n",
    "\n",
    "    return None\n",
    "\n"
   ]
  },
  {
   "cell_type": "code",
   "execution_count": 3,
   "metadata": {},
   "outputs": [],
   "source": [
    "def solve2(a,b,c):\n",
    "    res = \"\"\n",
    "    for i in range(a,a+b*c,b):\n",
    "        if len(res) + len(str(i)) >= c:\n",
    "            return str(i)[:(c-len(res))]\n",
    "        res += str(i)\n",
    "    print(\"ERROR\")\n",
    "    return res[:c]"
   ]
  },
  {
   "cell_type": "code",
   "execution_count": 4,
   "metadata": {},
   "outputs": [
    {
     "name": "stdout",
     "output_type": "stream",
     "text": [
      "break\n",
      "[47, 57, 67, 77, 87, 97, 107]\n"
     ]
    },
    {
     "data": {
      "text/plain": [
       "(7, '7')"
      ]
     },
     "execution_count": 4,
     "metadata": {},
     "output_type": "execute_result"
    }
   ],
   "source": [
    "a = 47\n",
    "b = 10\n",
    "c = 7\n",
    "\n",
    "solve(a,b,c), solve2(a,b,c)"
   ]
  },
  {
   "cell_type": "code",
   "execution_count": 5,
   "metadata": {},
   "outputs": [
    {
     "name": "stdout",
     "output_type": "stream",
     "text": [
      "break\n",
      "[98, 99, 100, 101, 102, 103, 104, 105, 106, 107]\n"
     ]
    },
    {
     "data": {
      "text/plain": [
       "(101, '101')"
      ]
     },
     "execution_count": 5,
     "metadata": {},
     "output_type": "execute_result"
    }
   ],
   "source": [
    "a = 98\n",
    "b = 1\n",
    "c = 10\n",
    "\n",
    "solve(a,b,c), solve2(a,b,c)"
   ]
  },
  {
   "cell_type": "code",
   "execution_count": 6,
   "metadata": {},
   "outputs": [
    {
     "name": "stdout",
     "output_type": "stream",
     "text": [
      "break\n",
      "[0, 1, 2, 3, 4, 5, 6]\n"
     ]
    },
    {
     "data": {
      "text/plain": [
       "(6, '6')"
      ]
     },
     "execution_count": 6,
     "metadata": {},
     "output_type": "execute_result"
    }
   ],
   "source": [
    "a = 0\n",
    "b = 1\n",
    "c = 7\n",
    "\n",
    "solve(a,b,c), solve2(a,b,c)"
   ]
  },
  {
   "cell_type": "code",
   "execution_count": 7,
   "metadata": {},
   "outputs": [
    {
     "name": "stdout",
     "output_type": "stream",
     "text": [
      "forward 5555 9\n",
      "123462344 1 5\n",
      "break\n",
      "[123462344, 123462345, 123462346, 123462347, 123462348]\n"
     ]
    },
    {
     "data": {
      "text/plain": [
       "(12346, '12346')"
      ]
     },
     "execution_count": 7,
     "metadata": {},
     "output_type": "execute_result"
    }
   ],
   "source": [
    "a = 123456789\n",
    "b = 1\n",
    "c = 50000\n",
    "\n",
    "solve(a,b,c), solve2(a,b,c)"
   ]
  },
  {
   "cell_type": "code",
   "execution_count": 8,
   "metadata": {},
   "outputs": [
    {
     "name": "stdout",
     "output_type": "stream",
     "text": [
      "break\n",
      "[11, 21, 31, 41, 51, 61, 71, 81, 91, 101, 111, 121, 131, 141, 151, 161, 171]\n"
     ]
    },
    {
     "data": {
      "text/plain": [
       "(9, '9')"
      ]
     },
     "execution_count": 8,
     "metadata": {},
     "output_type": "execute_result"
    }
   ],
   "source": [
    "a = 11\n",
    "b = 10\n",
    "c = 17\n",
    "\n",
    "solve(a,b,c), solve2(a,b,c)"
   ]
  },
  {
   "cell_type": "code",
   "execution_count": null,
   "metadata": {},
   "outputs": [],
   "source": []
  }
 ],
 "metadata": {
  "kernelspec": {
   "display_name": "Python 3",
   "language": "python",
   "name": "python3"
  },
  "language_info": {
   "codemirror_mode": {
    "name": "ipython",
    "version": 3
   },
   "file_extension": ".py",
   "mimetype": "text/x-python",
   "name": "python",
   "nbconvert_exporter": "python",
   "pygments_lexer": "ipython3",
   "version": "3.7.7"
  }
 },
 "nbformat": 4,
 "nbformat_minor": 4
}
