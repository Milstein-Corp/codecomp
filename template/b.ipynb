{
 "cells": [
  {
   "cell_type": "code",
   "execution_count": 1,
   "metadata": {},
   "outputs": [],
   "source": [
    "%reset -sf"
   ]
  },
  {
   "cell_type": "code",
   "execution_count": 2,
   "metadata": {},
   "outputs": [],
   "source": [
    "def calculate_pairs(arr, a,b,c):\n",
    "    \n",
    "    res = 0\n",
    "    brr = [[0 for _ in range(b)] for _ in range(a)]\n",
    "\n",
    "    for i,(row_1, row_2) in enumerate(zip(arr, arr[1:])):\n",
    "        for j,(a,b) in enumerate(zip(row_1, row_2)):\n",
    "            if a+b == 2:\n",
    "                res += 1\n",
    "            elif a+b == 1 and brr[i][j] != 1 and brr[i+1][j] != 1:\n",
    "                res += 1\n",
    "                if a == 1:\n",
    "                    brr[i][j] = 1\n",
    "                if b == 1:\n",
    "                    brr[i+1][j] = 1\n",
    "    \n",
    "    arr = list(zip(*arr))\n",
    "    for j,(row_1, row_2) in enumerate(zip(arr, arr[1:])):\n",
    "        for i,(a,b) in enumerate(zip(row_1, row_2)):\n",
    "            if a+b == 2:\n",
    "                res += 1\n",
    "            elif a+b == 1 and brr[i][j] != 1 and brr[i][j+1] != 1:\n",
    "                res += 1\n",
    "                if a == 1:\n",
    "                    brr[i][j] = 1\n",
    "                if b == 1:\n",
    "                    brr[i][j+1] = 1\n",
    "    \n",
    "    print(brr)\n",
    "    return res"
   ]
  },
  {
   "cell_type": "code",
   "execution_count": 3,
   "metadata": {
    "scrolled": true
   },
   "outputs": [
    {
     "name": "stdout",
     "output_type": "stream",
     "text": [
      "[[1, 0, 0], [1, 0, 1]]\n"
     ]
    },
    {
     "data": {
      "text/plain": [
       "4"
      ]
     },
     "execution_count": 3,
     "metadata": {},
     "output_type": "execute_result"
    }
   ],
   "source": [
    "a = 2\n",
    "b = 3\n",
    "c = 4\n",
    "arr = [[1, 0, 0], [1, 0, 1]]\n",
    "calculate_pairs(arr,a,b,c)"
   ]
  },
  {
   "cell_type": "code",
   "execution_count": null,
   "metadata": {},
   "outputs": [],
   "source": []
  },
  {
   "cell_type": "code",
   "execution_count": null,
   "metadata": {},
   "outputs": [],
   "source": []
  }
 ],
 "metadata": {
  "kernelspec": {
   "display_name": "Python 3",
   "language": "python",
   "name": "python3"
  },
  "language_info": {
   "codemirror_mode": {
    "name": "ipython",
    "version": 3
   },
   "file_extension": ".py",
   "mimetype": "text/x-python",
   "name": "python",
   "nbconvert_exporter": "python",
   "pygments_lexer": "ipython3",
   "version": "3.7.7"
  }
 },
 "nbformat": 4,
 "nbformat_minor": 4
}
