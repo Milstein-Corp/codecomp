{
 "cells": [
  {
   "cell_type": "code",
   "execution_count": 1,
   "metadata": {},
   "outputs": [],
   "source": [
    "# Python program to check whether two strings are \n",
    "# Python program to check if two strings are anagrams of \n",
    "# each other \n",
    "NO_OF_CHARS = 256\n",
    "  \n",
    "# Function to check whether two strings are anagram of \n",
    "# each other \n",
    "def areAnagram(str1, str2): \n",
    "  \n",
    "    # Create two count arrays and initialize all values as 0 \n",
    "    count1 = [0] * NO_OF_CHARS \n",
    "    count2 = [0] * NO_OF_CHARS \n",
    "  \n",
    "    # For each character in input strings, increment count \n",
    "    # in the corresponding count array \n",
    "    for i in str1: \n",
    "        count1[ord(i)]+=1\n",
    "  \n",
    "    for i in str2: \n",
    "        count2[ord(i)]+=1\n",
    "  \n",
    "    # If both strings are of different length. Removing this \n",
    "    # condition will make the program fail for strings like \n",
    "    # \"aaca\" and \"aca\" \n",
    "    if len(str1) != len(str2): \n",
    "        return 0\n",
    "  \n",
    "    # Compare count arrays \n",
    "    for i in range(NO_OF_CHARS): \n",
    "        if count1[i] != count2[i]: \n",
    "            return 0\n",
    "  \n",
    "    return 1"
   ]
  },
  {
   "cell_type": "code",
   "execution_count": 22,
   "metadata": {},
   "outputs": [],
   "source": [
    "def q1_function(L,a,b):\n",
    "    result = 0\n",
    "    for length_sub in range(1,L+1):\n",
    "#         print(\"length_sub : \" , length_sub)\n",
    "        for position_a in range(L-length_sub+1):\n",
    "#             print(\"pos_a : \" , position_a)\n",
    "            ref = a[position_a:position_a+length_sub]\n",
    "            for position_b in range(L-length_sub+1):\n",
    "                check = b[position_b:position_b+length_sub]\n",
    "#                 print(ref,check)\n",
    "                if areAnagram(ref, check):\n",
    "                    result += 1\n",
    "#                     print(\"x\")\n",
    "                    break\n",
    "    return result"
   ]
  },
  {
   "cell_type": "code",
   "execution_count": 23,
   "metadata": {},
   "outputs": [
    {
     "data": {
      "text/plain": [
       "5"
      ]
     },
     "execution_count": 23,
     "metadata": {},
     "output_type": "execute_result"
    }
   ],
   "source": [
    "q1_function(3,\"ABB\",\"BAB\")"
   ]
  },
  {
   "cell_type": "code",
   "execution_count": 24,
   "metadata": {},
   "outputs": [
    {
     "data": {
      "text/plain": [
       "6"
      ]
     },
     "execution_count": 24,
     "metadata": {},
     "output_type": "execute_result"
    }
   ],
   "source": [
    "q1_function(3, \"BAB\", \"ABB\")"
   ]
  },
  {
   "cell_type": "code",
   "execution_count": 25,
   "metadata": {},
   "outputs": [
    {
     "data": {
      "text/plain": [
       "6"
      ]
     },
     "execution_count": 25,
     "metadata": {},
     "output_type": "execute_result"
    }
   ],
   "source": [
    "q1_function(6, \"CATYYY\", \"XXXTAC\")"
   ]
  },
  {
   "cell_type": "code",
   "execution_count": 26,
   "metadata": {},
   "outputs": [
    {
     "data": {
      "text/plain": [
       "6"
      ]
     },
     "execution_count": 26,
     "metadata": {},
     "output_type": "execute_result"
    }
   ],
   "source": [
    "q1_function(9, \"SUBXXXXXX\", \"SUBBUSUSB\")"
   ]
  },
  {
   "cell_type": "code",
   "execution_count": 27,
   "metadata": {},
   "outputs": [
    {
     "data": {
      "text/plain": [
       "10"
      ]
     },
     "execution_count": 27,
     "metadata": {},
     "output_type": "execute_result"
    }
   ],
   "source": [
    "q1_function(4, \"AAAA\", \"AAAA\")"
   ]
  },
  {
   "cell_type": "code",
   "execution_count": 28,
   "metadata": {},
   "outputs": [
    {
     "data": {
      "text/plain": [
       "9"
      ]
     },
     "execution_count": 28,
     "metadata": {},
     "output_type": "execute_result"
    }
   ],
   "source": [
    "q1_function(19, \"PLEASEHELPIMTRAPPED\", \"INAKICKSTARTFACTORY\")"
   ]
  },
  {
   "cell_type": "code",
   "execution_count": 32,
   "metadata": {},
   "outputs": [
    {
     "name": "stdout",
     "output_type": "stream",
     "text": [
      "1\n",
      "3\n",
      "ABB\n",
      "BAB\n",
      "Case #1: 5\n"
     ]
    }
   ],
   "source": [
    "# INPUT SNIPPET FOR 18F1\n",
    "\n",
    "# input() reads a string with a line of input, stripping the '\\n' (newline) at the end.\n",
    "# This is all you need for most Kickstart problems.\n",
    "\n",
    "t = int(input())  # read a line with a single integer\n",
    "for i in range(1, t + 1):\n",
    "    L = int(input())\n",
    "    str_a = input()\n",
    "    str_b = input()\n",
    "    \n",
    "    result = q1_function(L, str_a, str_b)\n",
    "    print(\"Case #{}: {}\".format(i, result))"
   ]
  },
  {
   "cell_type": "code",
   "execution_count": 37,
   "metadata": {},
   "outputs": [
    {
     "name": "stdout",
     "output_type": "stream",
     "text": [
      "15.896010875701904\n"
     ]
    }
   ],
   "source": [
    "import time\n",
    "start_time = time.time()\n",
    "!python3 18F1.py < 18F1S.in > 18F1S.out\n",
    "print(time.time()-start_time)"
   ]
  },
  {
   "cell_type": "code",
   "execution_count": 36,
   "metadata": {},
   "outputs": [
    {
     "name": "stdout",
     "output_type": "stream",
     "text": [
      "33.307844161987305\n"
     ]
    }
   ],
   "source": [
    "import time\n",
    "start_time = time.time()\n",
    "!python3 18F1.py < 18F1L.in > 18F1L.out\n",
    "print(time.time()-start_time)"
   ]
  },
  {
   "cell_type": "code",
   "execution_count": null,
   "metadata": {},
   "outputs": [],
   "source": []
  }
 ],
 "metadata": {
  "kernelspec": {
   "display_name": "Python [conda env:credit]",
   "language": "python",
   "name": "conda-env-credit-py"
  },
  "language_info": {
   "codemirror_mode": {
    "name": "ipython",
    "version": 3
   },
   "file_extension": ".py",
   "mimetype": "text/x-python",
   "name": "python",
   "nbconvert_exporter": "python",
   "pygments_lexer": "ipython3",
   "version": "3.6.6"
  }
 },
 "nbformat": 4,
 "nbformat_minor": 2
}
